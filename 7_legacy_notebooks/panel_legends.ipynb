{
 "cells": [
  {
   "cell_type": "markdown",
   "metadata": {},
   "source": [
    "## Legends for panels"
   ]
  },
  {
   "cell_type": "code",
   "execution_count": 7,
   "metadata": {},
   "outputs": [],
   "source": [
    "import pandas as pd\n",
    "import matplotlib.pyplot as plt\n",
    "import matplotlib.colors as mcolors\n",
    "\n",
    "# plt.rcParams['font.sans-serif'] = \"Arial\"\n",
    "# plt.rcParams['font.family'] = \"sans-serif\"\n",
    "# plt.rcParams['svg.fonttype'] = 'none'"
   ]
  },
  {
   "cell_type": "markdown",
   "metadata": {},
   "source": [
    "## Functions"
   ]
  },
  {
   "cell_type": "code",
   "execution_count": 8,
   "metadata": {},
   "outputs": [],
   "source": [
    "def print_tab20_hex_codes():\n",
    "    # Get the tab20 colormap\n",
    "    cmap = plt.get_cmap('tab20')\n",
    "    \n",
    "    # Extract the RGB values for all 20 colors\n",
    "    n_colors = cmap.N  # Total number of colors\n",
    "    colors = [cmap(i) for i in range(n_colors)]\n",
    "    # Add Deep Purple and Pastel Purple to the list of colors to get a 22-color palette\n",
    "    hex_codes = [mcolors.rgb2hex(color) for color in colors] + [\"#800080\", \"#d28fd2\"]\n",
    "    \n",
    "    return hex_codes"
   ]
  },
  {
   "cell_type": "markdown",
   "metadata": {},
   "source": [
    "## Areas legends"
   ]
  },
  {
   "cell_type": "code",
   "execution_count": null,
   "metadata": {},
   "outputs": [],
   "source": [
    "filename = \"data/hcp.csv\"\n",
    "df = pd.read_csv(filename)\n",
    "\n",
    "df.loc[df.name == 'V1', \"area\"] = \"Primary Visual\"\n",
    "df.loc[df.name == 'V1', \"area_id\"] = -1\n",
    "df[\"area_id\"] += 1\n",
    "\n",
    "df.loc[df.area_id > 4, \"area_id\"] += 3\n",
    "df.area_id = df.area_id.replace({12+3: 5})\n",
    "df.area_id = df.area_id.replace({13+3: 6})\n",
    "df.area_id = df.area_id.replace({14+3: 7})\n",
    "df.loc[df.area_id>14, \"area_id\"] = df[df.area_id>14][\"area_id\"] - 3\n",
    "df['area_id'] = df['area_id'].replace({2: 3, 3:2, 4:5, 5:4}).replace({4:5, 5:4})\n",
    "\n",
    "df.area = df.area.replace({\"Early Visual\": \"Early Visual (V2-4)\",\n",
    "                           \"IFG\": \"Inferior Frontal Gyrus\",})\n",
    "\n",
    "{k: \"\" for k in df.area.unique()}\n",
    "areas = df.sort_values(\"area_id\")[\"area\"].drop_duplicates().tolist()\n",
    "\n",
    "colors = print_tab20_hex_codes()\n",
    "\n",
    "area_colors = {area: colors[i] for i, area in enumerate(areas)}\n",
    "\n",
    "df[\"area_color\"] = df[\"area\"].map(area_colors)\n",
    "\n",
    "assert df[[\"area_id\", \"area\"]].drop_duplicates().sort_values(\"area_id\").area_id.is_unique\n",
    "#df.to_csv(\"hcp2.csv\", index=False)"
   ]
  },
  {
   "cell_type": "code",
   "execution_count": null,
   "metadata": {},
   "outputs": [],
   "source": [
    "\n",
    "fig, ax = plt.subplots()\n",
    "handles = [\n",
    "    plt.Line2D([0], [0], marker=\"o\", color=\"w\", label=area, markerfacecolor=color, markersize=10)\n",
    "    for area, color in area_colors.items()\n",
    "]\n",
    "\n",
    "# Add padding to the legend\n",
    "ax.legend(handles=handles, loc=\"center\", ncol=2, fontsize=8, borderpad=1, title=\"Area\")\n",
    "ax.axis(\"off\")\n",
    "fig.tight_layout()\n",
    "fig.savefig(\n",
    "    \"area_legend_with_title.svg\", dpi=300, bbox_inches=\"tight\", pad_inches=0, transparent=True\n",
    ")\n",
    "plt.close()\n",
    "\n",
    "fig, ax = plt.subplots()\n",
    "ax.legend(handles=handles, loc=\"center\", ncol=2, fontsize=8, borderpad=1)\n",
    "ax.axis(\"off\")\n",
    "fig.tight_layout()\n",
    "fig.savefig(\"area_legend.svg\", dpi=300, bbox_inches=\"tight\", pad_inches=0, transparent=True)\n",
    "plt.close()"
   ]
  },
  {
   "cell_type": "markdown",
   "metadata": {},
   "source": [
    "## Cbar"
   ]
  },
  {
   "cell_type": "code",
   "execution_count": 9,
   "metadata": {},
   "outputs": [],
   "source": [
    "import matplotlib.pyplot as plt\n",
    "import matplotlib.colorbar as cbar\n",
    "import matplotlib.colors as mcolors\n",
    "import matplotlib.ticker as mticker\n",
    "\n",
    "plt.rcParams['font.sans-serif'] = \"Arial\"\n",
    "plt.rcParams['font.family'] = \"sans-serif\"\n",
    "plt.rcParams['svg.fonttype'] = 'none'\n",
    "\n",
    "def plot_cbar(figsize=None, cmap=\"viridis\", vmin=0, vmax=0.2, horizontal=False, title=\"\", percent=True, locator=0.05, rotation=-90, labelpad=20, fontsize=12, **kwargs):\n",
    "\n",
    "    if figsize is None:\n",
    "        figsize = (6, 0.4) if horizontal else (0.4, 6)\n",
    "    fig, ax = plt.subplots(figsize=figsize)\n",
    "    \n",
    "    # Create a colormap normalization\n",
    "    norm = mcolors.Normalize(vmin=vmin, vmax=vmax)\n",
    "    \n",
    "    # Create a scalar mappable for the colorbar\n",
    "    sm = plt.cm.ScalarMappable(cmap=cmap, norm=norm)\n",
    "    sm.set_array([])  # Dummy array for ScalarMappable\n",
    "\n",
    "    # Add the colorbar\n",
    "    orientation = 'horizontal' if horizontal else 'vertical'\n",
    "    cbar_instance = fig.colorbar(sm, cax=ax, orientation=orientation, **kwargs)\n",
    "    cbar_instance.set_label(title, rotation=rotation, labelpad=labelpad, fontsize=fontsize)\n",
    "    \n",
    "    if percent:\n",
    "        ticker = mticker.PercentFormatter(xmax=1, decimals=0)\n",
    "        cbar_instance.formatter = ticker\n",
    "    if locator:\n",
    "        cbar_instance.locator = mticker.MultipleLocator(base=locator)\n",
    "\n",
    "    \n",
    "    return fig, ax\n",
    "\n",
    "#fig, ax = plot_cbar(cmap=\"hot\", title=\"CKA Similarity\", vmin=0, vmax=0.18, locator=0.03, location='left', rotation=90, labelpad=10, figsize = (0.4, 6))\n",
    "#fig.savefig(\"cbar_hot_0_18_rev.svg\", dpi=300, bbox_inches=\"tight\", transparent=True)\n",
    "\n",
    "#fig, ax = plot_cbar(cmap=\"hot\", title=\"CKA Similarity\", vmin=0, vmax=0.18, locator=0.03, horizontal=True, rotation=0, labelpad=10, figsize = (6, 0.4))\n",
    "#fig.savefig(\"cbar_hot_0_18_horizontal.svg\", dpi=300, bbox_inches=\"tight\", transparent=True)"
   ]
  },
  {
   "cell_type": "code",
   "execution_count": null,
   "metadata": {},
   "outputs": [],
   "source": [
    "fig, ax = plot_cbar(cmap=\"hot\", title=\"CKA Similarity\", vmin=0, vmax=0.25, locator=0.05, horizontal=True, rotation=0, labelpad=10, figsize = (6, 0.3))\n",
    "fig.savefig(\"cbar_hot_0_25_horizontal.svg\", dpi=300, bbox_inches=\"tight\", transparent=True)"
   ]
  },
  {
   "cell_type": "code",
   "execution_count": 15,
   "metadata": {},
   "outputs": [
    {
     "data": {
      "image/png": "[encoded data removed]",
      "text/plain": [
       "<Figure size 30x600 with 1 Axes>"
      ]
     },
     "metadata": {},
     "output_type": "display_data"
    },
    {
     "data": {
      "image/png": "[encoded data removed]",
      "text/plain": [
       "<Figure size 600x30 with 1 Axes>"
      ]
     },
     "metadata": {},
     "output_type": "display_data"
    }
   ],
   "source": [
    "fig, ax = plot_cbar(cmap=\"coolwarm\", title=\"Layer Depth\", vmin=0.2, vmax=0.8, locator=0.2, location='left', rotation=90, labelpad=10, figsize = (0.3, 6))\n",
    "fig.savefig(\"cbar_coolwarm_20_80_rev.svg\", dpi=300, bbox_inches=\"tight\", transparent=True)\n",
    "\n",
    "fig, ax = plot_cbar(cmap=\"coolwarm\", title=\"Layer Depth\", vmin=0.2, vmax=0.8, locator=0.2, horizontal=True, rotation=0, labelpad=10, figsize = (6, 0.3))\n",
    "fig.savefig(\"cbar_coolwarm_20_80_horizontal.svg\", dpi=300, bbox_inches=\"tight\", transparent=True)\n"
   ]
  }
 ],
 "metadata": {
  "kernelspec": {
   "display_name": ".venv",
   "language": "python",
   "name": "python3"
  },
  "language_info": {
   "codemirror_mode": {
    "name": "ipython",
    "version": 3
   },
   "file_extension": ".py",
   "mimetype": "text/x-python",
   "name": "python",
   "nbconvert_exporter": "python",
   "pygments_lexer": "ipython3",
   "version": "3.10.3"
  }
 },
 "nbformat": 4,
 "nbformat_minor": 2
}
